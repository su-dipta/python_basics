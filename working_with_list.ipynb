{
  "nbformat": 4,
  "nbformat_minor": 0,
  "metadata": {
    "colab": {
      "provenance": [],
      "authorship_tag": "ABX9TyOqfgvWAZGSsHzd16BDIMW6",
      "include_colab_link": true
    },
    "kernelspec": {
      "name": "python3",
      "display_name": "Python 3"
    },
    "language_info": {
      "name": "python"
    }
  },
  "cells": [
    {
      "cell_type": "markdown",
      "metadata": {
        "id": "view-in-github",
        "colab_type": "text"
      },
      "source": [
        "<a href=\"https://colab.research.google.com/github/su-dipta/python_basics/blob/main/working_with_list.ipynb\" target=\"_parent\"><img src=\"https://colab.research.google.com/assets/colab-badge.svg\" alt=\"Open In Colab\"/></a>"
      ]
    },
    {
      "cell_type": "code",
      "execution_count": null,
      "metadata": {
        "id": "sqyzL44CL56c"
      },
      "outputs": [],
      "source": [
        "#define a list with strings\n",
        "names = ['dinesh', 'bhawana', 'mohit', 'sucheta']\n",
        "\n",
        "#Looping Through an Entire List\n",
        "#for item in list_of_items:\n",
        "\n",
        "for name in names:\n",
        "    print(name)"
      ]
    },
    {
      "cell_type": "code",
      "source": [
        "#some more operation inside a loop\n",
        "for name in names:\n",
        "    print(name.capitalize()+ ', how are you?')\n",
        "    print(\"Nice to meet you\" + \".\\n\")"
      ],
      "metadata": {
        "id": "UzZFQCQxOXUv"
      },
      "execution_count": null,
      "outputs": []
    },
    {
      "cell_type": "code",
      "source": [
        "#Numerical list\n",
        "a = [1,2,3,4,5,6]\n",
        "for i in a:\n",
        "    print(i)"
      ],
      "metadata": {
        "id": "jnhI-PqiMske"
      },
      "execution_count": null,
      "outputs": []
    },
    {
      "cell_type": "code",
      "source": [
        "for a in range(1,6):\n",
        "    print(a)"
      ],
      "metadata": {
        "id": "LP8P98hsWe8A"
      },
      "execution_count": null,
      "outputs": []
    },
    {
      "cell_type": "code",
      "source": [
        "list_of_numbers = list(range(1,3))\n",
        "new_list = []\n",
        "\n",
        "for i in list_of_numbers:\n",
        "    j = i + 0.5\n",
        "    new_list.append(j)\n",
        "\n",
        "print(\"updated list is \", new_list,\"\\n\")\n",
        "\n",
        "print(\"lowest value of the list is \", min(new_list))\n",
        "print(\"highest value of the list is \", max(new_list))\n",
        "\n",
        "sum = 0\n",
        "for k in list_of_numbers:\n",
        "    sum = sum + k\n",
        "print(sum)"
      ],
      "metadata": {
        "id": "dZCFiG_6XVrP"
      },
      "execution_count": null,
      "outputs": []
    },
    {
      "cell_type": "code",
      "source": [
        "#appending new value to a list\n",
        "\n",
        "numbers = [1,2,3,4,5,6,7]\n",
        "\n",
        "numbers.append(8) #adding a number to the list\n",
        "numbers.remove(1) #removing a number from the list\n",
        "numbers.pop(1)    #removing a number using index\n",
        "print(numbers)"
      ],
      "metadata": {
        "id": "ZfyW0HQsfuRS"
      },
      "execution_count": null,
      "outputs": []
    },
    {
      "cell_type": "code",
      "source": [
        "#slicing through a list\n",
        "numbers = [1,2,3,4,5,6,7]\n",
        "print(\"first three numbers are \",numbers[:3], \"\\n\")\n",
        "print(\"last three numbers are \",numbers[-3:], \"\\n\")\n",
        "print(\"numbers in the middle \", numbers[2:5], \"\\n\")"
      ],
      "metadata": {
        "id": "b0Y7TzaShtcf"
      },
      "execution_count": null,
      "outputs": []
    },
    {
      "cell_type": "code",
      "source": [
        "# Program to multiply two matrices using nested loops\n",
        "import numpy as np\n",
        "\n",
        "# 3x3 matrix\n",
        "X = [[12,7,3],\n",
        "    [4 ,5,6],\n",
        "    [7 ,8,9]]\n",
        "# 3x4 matrix\n",
        "Y = [[5,8,1,2],\n",
        "    [6,7,3,0],\n",
        "    [4,5,9,1]]\n",
        "# result is 3x4\n",
        "result = [[0,0,0,0],\n",
        "         [0,0,0,0],\n",
        "         [0,0,0,0]]\n",
        "\n",
        "print(len(X))\n",
        "\n",
        "# iterate through rows of X\n",
        "for i in range(len(X)):\n",
        "   # iterate through columns of Y\n",
        "   for j in range(len(Y[0])):\n",
        "       # iterate through rows of Y\n",
        "       for k in range(len(Y)):\n",
        "           result[i][j] += X[i][k] * Y[k][j]\n",
        "           #print(X[i][k],Y[k][j],result[i][j])\n",
        "for r in result:\n",
        "   print(r)\n",
        "#print(result)"
      ],
      "metadata": {
        "id": "hZKIU6dys8Re",
        "colab": {
          "base_uri": "https://localhost:8080/"
        },
        "outputId": "dc93247a-58d5-44c2-8598-ecd58acf2cca"
      },
      "execution_count": null,
      "outputs": [
        {
          "output_type": "stream",
          "name": "stdout",
          "text": [
            "3\n",
            "[114, 160, 60, 27]\n",
            "[74, 97, 73, 14]\n",
            "[119, 157, 112, 23]\n"
          ]
        }
      ]
    },
    {
      "cell_type": "code",
      "source": [],
      "metadata": {
        "id": "lVX6opHju3pi"
      },
      "execution_count": null,
      "outputs": []
    }
  ]
}