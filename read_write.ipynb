{
  "nbformat": 4,
  "nbformat_minor": 0,
  "metadata": {
    "colab": {
      "provenance": [],
      "authorship_tag": "ABX9TyPGdduiB9Ex9uBVFIN/Wrc2",
      "include_colab_link": true
    },
    "kernelspec": {
      "name": "python3",
      "display_name": "Python 3"
    },
    "language_info": {
      "name": "python"
    }
  },
  "cells": [
    {
      "cell_type": "markdown",
      "metadata": {
        "id": "view-in-github",
        "colab_type": "text"
      },
      "source": [
        "<a href=\"https://colab.research.google.com/github/su-dipta/python_basics/blob/main/read_write.ipynb\" target=\"_parent\"><img src=\"https://colab.research.google.com/assets/colab-badge.svg\" alt=\"Open In Colab\"/></a>"
      ]
    },
    {
      "cell_type": "code",
      "execution_count": 1,
      "metadata": {
        "id": "SwYM0QKiUoy0"
      },
      "outputs": [],
      "source": [
        "import numpy as np"
      ]
    },
    {
      "cell_type": "code",
      "source": [
        "# Define matrices A and B\n",
        "A = np.array([[1, 2], [3, 4]])\n",
        "B = np.array([[5, 6], [7, 8]])\n",
        "\n",
        "# Perform matrix multiplication\n",
        "C = np.dot(A, B)\n",
        "\n",
        "# Write the multiplied matrix to a file\n",
        "output_file = 'result_matrix.txt'\n",
        "np.savetxt(output_file, C, fmt='%d', delimiter=', ')\n",
        "\n",
        "print(f\"Matrix multiplication result saved to '{output_file}'\")\n",
        "\n",
        "\n",
        "with open('output.txt', 'w') as f:\n",
        "    f.write(str(C))"
      ],
      "metadata": {
        "id": "gHJUrWLLUyFv"
      },
      "execution_count": null,
      "outputs": []
    },
    {
      "cell_type": "code",
      "source": [
        "mat1 = np.random.randint(1,10,size=(3,3))\n",
        "mat2 = np.random.randint(1,20,size=(3,3))\n",
        "\n",
        "mat3 = np.matmul(mat1, mat2)\n",
        "\n",
        "output_file = 'result_matrix.txt'\n",
        "np.savetxt(output_file, mat3, fmt='%d', delimiter=', ')\n",
        "\n",
        "with open('output.txt', 'w') as f:\n",
        "    f.write(str(mat3))"
      ],
      "metadata": {
        "id": "1CQTxdaHU0zt"
      },
      "execution_count": null,
      "outputs": []
    },
    {
      "cell_type": "code",
      "source": [
        "mat1 = np.random.randint(1,10,size=(3,3))\n",
        "mat2 = np.random.randint(1,20,size=(3,3))\n",
        "\n",
        "np.savetxt('mat1.txt', mat1, fmt='%d')\n",
        "np.savetxt('mat2.txt', mat2, fmt='%d')\n",
        "\n",
        "readmat1 = np.loadtxt('mat1.txt')\n",
        "readmat2 = np.loadtxt('mat2.txt')\n",
        "\n",
        "print(readmat1)\n",
        "print(readmat2)"
      ],
      "metadata": {
        "id": "i4aEqxF5U3Z3"
      },
      "execution_count": null,
      "outputs": []
    },
    {
      "cell_type": "code",
      "source": [
        "# Step 1: Define a 10x8 random matrix with integers\n",
        "matrix1 = np.random.randint(1, 10, size=(10, 8))\n",
        "\n",
        "# Step 2: Write matrix1 to a file named original_mat.txt\n",
        "np.savetxt('original_mat.txt', matrix1, fmt='%d')\n",
        "\n",
        "# Step 3: Define another random 8x10 matrix\n",
        "matrix2 = np.random.randint(1, 10, size=(8, 10))\n",
        "\n",
        "# Step 4: Write matrix2 to a file named original_mat2.txt\n",
        "np.savetxt('original_mat2.txt', matrix2, fmt='%d')\n",
        "\n",
        "# Step 5: Multiply both matrices and write down sum of each row of the multiplied matrix\n",
        "multiplied_matrix = np.dot(matrix1, matrix2)\n",
        "sum_of_rows = np.sum(multiplied_matrix, axis=1)\n",
        "np.savetxt('sum_of_row.txt', sum_of_rows, fmt='%d')\n",
        "\n",
        "# Step 6: Calculate trace of the multiplied matrix\n",
        "trace = np.trace(multiplied_matrix)\n",
        "\n",
        "# Read sums from the file \"sum_of_row.txt\" and check if trace is greater than any number\n",
        "with open('sum_of_row.txt', 'r') as file:\n",
        "    sums = [int(line.strip()) for line in file]\n",
        "    greater_sums = [s for s in sums if trace > s]\n",
        "\n",
        "# Print the greater sums\n",
        "if greater_sums:\n",
        "    print(\"Trace is greater than the following sums:\", greater_sums)\n",
        "else:\n",
        "    print(\"Trace is not greater than any sum.\")"
      ],
      "metadata": {
        "id": "VR_7DqcTU7zg"
      },
      "execution_count": null,
      "outputs": []
    },
    {
      "cell_type": "code",
      "source": [
        "def generate_and_write_matrix(filename, shape):\n",
        "    matrix = np.random.randint(1, 10, size=shape)\n",
        "    np.savetxt(filename, matrix, fmt='%d')\n",
        "    return matrix\n",
        "\n",
        "def multiply_matrices_and_write_sums(matrix1, matrix2, filename):\n",
        "    multiplied_matrix = np.dot(matrix1, matrix2)\n",
        "    sum_of_rows = np.sum(multiplied_matrix, axis=1)\n",
        "    np.savetxt(filename, sum_of_rows, fmt='%d')\n",
        "    return multiplied_matrix, sum_of_rows\n",
        "\n",
        "def calculate_trace_and_check(trace, filename):\n",
        "    with open(filename, 'r') as file:\n",
        "        sums = [int(line.strip()) for line in file]\n",
        "        greater_sums = [s for s in sums if trace > s]\n",
        "    return greater_sums\n",
        "\n",
        "# Step 1: Generate and write the first matrix\n",
        "matrix1 = generate_and_write_matrix('original_mat.txt', (10, 8))\n",
        "\n",
        "# Step 3: Generate and write the second matrix\n",
        "matrix2 = generate_and_write_matrix('original_mat2.txt', (8, 10))\n",
        "\n",
        "# Step 5: Multiply matrices and write sums of rows\n",
        "multiplied_matrix, sum_of_rows = multiply_matrices_and_write_sums(matrix1, matrix2, 'sum_of_row.txt')\n",
        "\n",
        "# Step 6: Calculate trace and check against sums\n",
        "trace = np.trace(multiplied_matrix)\n",
        "greater_sums = calculate_trace_and_check(trace, 'sum_of_row.txt')\n",
        "\n",
        "# Print the greater sums\n",
        "if greater_sums:\n",
        "    print(\"Trace is greater than the following sums:\", greater_sums)\n",
        "else:\n",
        "    print(\"Trace is not greater than any sum.\")"
      ],
      "metadata": {
        "id": "9vHlCeHgVAnB"
      },
      "execution_count": null,
      "outputs": []
    }
  ]
}