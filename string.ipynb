{
  "nbformat": 4,
  "nbformat_minor": 0,
  "metadata": {
    "colab": {
      "provenance": [],
      "authorship_tag": "ABX9TyOb4x1GFdTNi6nx7VcoaNjW",
      "include_colab_link": true
    },
    "kernelspec": {
      "name": "python3",
      "display_name": "Python 3"
    },
    "language_info": {
      "name": "python"
    }
  },
  "cells": [
    {
      "cell_type": "markdown",
      "metadata": {
        "id": "view-in-github",
        "colab_type": "text"
      },
      "source": [
        "<a href=\"https://colab.research.google.com/github/su-dipta/python_basics/blob/main/string.ipynb\" target=\"_parent\"><img src=\"https://colab.research.google.com/assets/colab-badge.svg\" alt=\"Open In Colab\"/></a>"
      ]
    },
    {
      "cell_type": "code",
      "source": [
        "#writing first python program"
      ],
      "metadata": {
        "id": "YwQ49IOA6XVj"
      },
      "execution_count": null,
      "outputs": []
    },
    {
      "cell_type": "code",
      "source": [
        "print(\"Hello, World!\")"
      ],
      "metadata": {
        "id": "Q6TI6Aj26fp5"
      },
      "execution_count": null,
      "outputs": []
    },
    {
      "cell_type": "code",
      "source": [
        "#Variables and Data Types:\n",
        "\n",
        "x = 5\n",
        "y = \"Hello\"\n",
        "\n",
        "# Data Types\n",
        "print(type(x))\n",
        "print(type(y))"
      ],
      "metadata": {
        "id": "6mdbG1fs8gyq"
      },
      "execution_count": null,
      "outputs": []
    },
    {
      "cell_type": "code",
      "source": [
        "#Concatenation\n",
        "\n",
        "str1 = \"Hello\"\n",
        "str2 = \"World\"\n",
        "result = str1 + \", \" + str2\n",
        "print(result)"
      ],
      "metadata": {
        "id": "CyFxCN169b1O"
      },
      "execution_count": null,
      "outputs": []
    },
    {
      "cell_type": "code",
      "source": [
        "#String Length\n",
        "\n",
        "str = \"Python\"\n",
        "print(len(str))"
      ],
      "metadata": {
        "id": "JeXdG7LW9w9Y"
      },
      "execution_count": null,
      "outputs": []
    },
    {
      "cell_type": "code",
      "source": [
        "#Accessing Characters\n",
        "\n",
        "str = \"Python\"\n",
        "print(str[0])\n",
        "print(str[-1])"
      ],
      "metadata": {
        "id": "RCV7tRXf-v_c"
      },
      "execution_count": null,
      "outputs": []
    },
    {
      "cell_type": "code",
      "source": [
        "#slicing\n",
        "\n",
        "str = \"Hello, World\"\n",
        "print(str[2:5])\n",
        "print(str[:5])\n",
        "print(str[7:])"
      ],
      "metadata": {
        "id": "1XgFF6Xd-640"
      },
      "execution_count": null,
      "outputs": []
    },
    {
      "cell_type": "code",
      "source": [
        "#string methods\n",
        "\n",
        "str = \"hello world\"\n",
        "print(str.upper())\n",
        "print(str.capitalize())\n",
        "print(str.replace(\"hello\", \"hi\"))\n",
        "print(str.count(\"l\"))\n",
        "print(str.find(\"world\"))"
      ],
      "metadata": {
        "id": "_bYtHVQ5_bAD"
      },
      "execution_count": null,
      "outputs": []
    },
    {
      "cell_type": "code",
      "source": [
        "#String Formatting\n",
        "\n",
        "name = \"Alice\"\n",
        "age = 30\n",
        "print(\"My name is {} and I am {} years old.\".format(name, age))"
      ],
      "metadata": {
        "id": "ExIu61luA7Iy"
      },
      "execution_count": null,
      "outputs": []
    }
  ]
}