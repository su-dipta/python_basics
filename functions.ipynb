{
  "nbformat": 4,
  "nbformat_minor": 0,
  "metadata": {
    "colab": {
      "provenance": [],
      "authorship_tag": "ABX9TyNJsmyB/7dKQ1yhHQ3x8hFX",
      "include_colab_link": true
    },
    "kernelspec": {
      "name": "python3",
      "display_name": "Python 3"
    },
    "language_info": {
      "name": "python"
    }
  },
  "cells": [
    {
      "cell_type": "markdown",
      "metadata": {
        "id": "view-in-github",
        "colab_type": "text"
      },
      "source": [
        "<a href=\"https://colab.research.google.com/github/su-dipta/python_basics/blob/main/functions.ipynb\" target=\"_parent\"><img src=\"https://colab.research.google.com/assets/colab-badge.svg\" alt=\"Open In Colab\"/></a>"
      ]
    },
    {
      "cell_type": "code",
      "execution_count": null,
      "metadata": {
        "id": "MSTpRj4_pC05"
      },
      "outputs": [],
      "source": []
    },
    {
      "cell_type": "markdown",
      "source": [
        "#**Functions**\n",
        "\n",
        "In Python, **`def`** is used to define a function. A function is a block of code that performs a specific task, and we can reuse it by calling its name.\n",
        "\n",
        "Basis structure of a function:\n",
        "\n",
        "\n",
        "```\n",
        "def function_name(parameters):\n",
        "    # Code block of the function\n",
        "    # This is where the task of the function is defined\n",
        "    return result  # (optional) Return a value\n",
        "```"
      ],
      "metadata": {
        "id": "CdKH7JiypDwf"
      }
    },
    {
      "cell_type": "markdown",
      "source": [
        "**Example:** A Simple Function without Parameters"
      ],
      "metadata": {
        "id": "D6k-3KxhqD7I"
      }
    },
    {
      "cell_type": "code",
      "source": [
        "def greet():\n",
        "    print(\"Hello! Welcome to CH481\")"
      ],
      "metadata": {
        "id": "0uj5UVdjqCAy"
      },
      "execution_count": null,
      "outputs": []
    },
    {
      "cell_type": "markdown",
      "source": [
        "To **call the function** and see its result, use its name followed by parentheses:\n"
      ],
      "metadata": {
        "id": "jjsv624-qjNN"
      }
    },
    {
      "cell_type": "code",
      "source": [
        "greet()"
      ],
      "metadata": {
        "id": "R_Bmz1T_qs1l"
      },
      "execution_count": null,
      "outputs": []
    },
    {
      "cell_type": "markdown",
      "source": [
        "**Adding Parameters to a Function**\n",
        "Parameters are values that one can pass into a function to customize its behaviour.\n",
        "\n",
        "For example, we can modify the **`greet`** function by including **`name`** as a parameter.\n",
        "\n"
      ],
      "metadata": {
        "id": "u16vyXxxq_xU"
      }
    },
    {
      "cell_type": "code",
      "source": [
        "def greet(name):\n",
        "    print(\"Hello, \" + name+ \". Welcome to CH481\")"
      ],
      "metadata": {
        "id": "a7kcvHi5rwSi"
      },
      "execution_count": null,
      "outputs": []
    },
    {
      "cell_type": "markdown",
      "source": [
        "Now, when we call greet, we provide a value for name:"
      ],
      "metadata": {
        "id": "jMerDQrhr8xi"
      }
    },
    {
      "cell_type": "code",
      "source": [
        "greet(\"Mrinal\")\n",
        "greet(\"Sudipta\")"
      ],
      "metadata": {
        "id": "AsLkZ8_6r24G"
      },
      "execution_count": null,
      "outputs": []
    },
    {
      "cell_type": "markdown",
      "source": [
        "Use **`return`** to get a Result from a Function."
      ],
      "metadata": {
        "id": "Qu4q0gMisnjd"
      }
    },
    {
      "cell_type": "code",
      "source": [
        "#a function that will do square of a number.\n",
        "\n",
        "def square(number):\n",
        "    result = number * number\n",
        "    return result\n"
      ],
      "metadata": {
        "id": "AmAWDjxHsmPP"
      },
      "execution_count": null,
      "outputs": []
    },
    {
      "cell_type": "markdown",
      "source": [
        " Now, when we call **`square`** and provide a number, we get the squared value back:"
      ],
      "metadata": {
        "id": "402FOyHstfgy"
      }
    },
    {
      "cell_type": "code",
      "source": [
        "num = int(input(\"Enter a number: \"))\n",
        "\n",
        "squared_value = square(num)\n",
        "print(num, \"squared is\", squared_value)"
      ],
      "metadata": {
        "id": "zlK6Jx8utqAZ"
      },
      "execution_count": null,
      "outputs": []
    },
    {
      "cell_type": "code",
      "source": [],
      "metadata": {
        "id": "JsUR9Rhet0Nd"
      },
      "execution_count": null,
      "outputs": []
    },
    {
      "cell_type": "markdown",
      "source": [
        "Function with multiple parameters."
      ],
      "metadata": {
        "id": "z-x1cbTRuGO_"
      }
    },
    {
      "cell_type": "code",
      "source": [
        "def calc_area(length, width):\n",
        "    area = length * width\n",
        "    return area"
      ],
      "metadata": {
        "id": "zdHq6xjut03i"
      },
      "execution_count": null,
      "outputs": []
    },
    {
      "cell_type": "code",
      "source": [
        "area1 = calc_area(5, 3)\n",
        "print(\"Area of rectangle :\", area1)"
      ],
      "metadata": {
        "id": "GrVLYBeQt5-m"
      },
      "execution_count": null,
      "outputs": []
    },
    {
      "cell_type": "markdown",
      "source": [
        "**N.B:** Remember you need to call the function with the same order of parameter that you have defined in the function."
      ],
      "metadata": {
        "id": "hy5zp2EOuooP"
      }
    }
  ]
}