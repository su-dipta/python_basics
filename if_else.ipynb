{
  "nbformat": 4,
  "nbformat_minor": 0,
  "metadata": {
    "colab": {
      "provenance": [],
      "authorship_tag": "ABX9TyOGoeL0fQArOB5yXNnQU9vF",
      "include_colab_link": true
    },
    "kernelspec": {
      "name": "python3",
      "display_name": "Python 3"
    },
    "language_info": {
      "name": "python"
    }
  },
  "cells": [
    {
      "cell_type": "markdown",
      "metadata": {
        "id": "view-in-github",
        "colab_type": "text"
      },
      "source": [
        "<a href=\"https://colab.research.google.com/github/su-dipta/python_basics/blob/main/if_else.ipynb\" target=\"_parent\"><img src=\"https://colab.research.google.com/assets/colab-badge.svg\" alt=\"Open In Colab\"/></a>"
      ]
    },
    {
      "cell_type": "code",
      "execution_count": 7,
      "metadata": {
        "colab": {
          "base_uri": "https://localhost:8080/"
        },
        "id": "3VXO0mwXl6qt",
        "outputId": "1ebe88c6-27ce-48bd-d79b-0c55159b7972"
      },
      "outputs": [
        {
          "output_type": "stream",
          "name": "stdout",
          "text": [
            "The number is negative.\n"
          ]
        }
      ],
      "source": [
        "#checking a number type\n",
        "\n",
        "num = -25\n",
        "\n",
        "if num > 0:\n",
        "    print(\"The number is positive.\")\n",
        "elif num == 0:\n",
        "    print(\"The number is zero.\")\n",
        "else:\n",
        "    print(\"The number is negative.\")"
      ]
    },
    {
      "cell_type": "code",
      "source": [
        "#checking a prime number\n",
        "\n",
        "num = 0.5\n",
        "is_prime = True\n",
        "\n",
        "if num <= 1:\n",
        "    is_prime = False\n",
        "else:\n",
        "    for i in range(2, int(num**0.5) + 1):\n",
        "        if num % i == 0:\n",
        "            is_prime = False\n",
        "            break\n",
        "\n",
        "if is_prime:\n",
        "    print(f\"{num} is a prime number.\")\n",
        "else:\n",
        "    print(f\"{num} is not a prime number.\")"
      ],
      "metadata": {
        "colab": {
          "base_uri": "https://localhost:8080/"
        },
        "id": "yG7jowh0rVas",
        "outputId": "d65f5b38-8f32-4929-c77e-b3c4e6338540"
      },
      "execution_count": 5,
      "outputs": [
        {
          "output_type": "stream",
          "name": "stdout",
          "text": [
            "0.5 is not a prime number.\n"
          ]
        }
      ]
    },
    {
      "cell_type": "code",
      "source": [
        "#determining largest of three numbers\n",
        "a = 15\n",
        "b = 27\n",
        "c = 10\n",
        "\n",
        "if a >= b and a >= c:\n",
        "    largest = a\n",
        "elif b >= a and b >= c:\n",
        "    largest = b\n",
        "else:\n",
        "    largest = c\n",
        "\n",
        "print(f\"The largest number among {a}, {b}, and {c} is {largest}.\")"
      ],
      "metadata": {
        "colab": {
          "base_uri": "https://localhost:8080/"
        },
        "id": "djDYiDQ0sxyQ",
        "outputId": "7464c7d2-cb21-40c7-bf7c-3dcde5ca7d83"
      },
      "execution_count": 6,
      "outputs": [
        {
          "output_type": "stream",
          "name": "stdout",
          "text": [
            "The largest number among 15, 27, and 10 is 27.\n"
          ]
        }
      ]
    },
    {
      "cell_type": "code",
      "source": [
        "age = 25\n",
        "\n",
        "if age < 0:\n",
        "    print(\"Age cannot be negative.\")\n",
        "elif age < 18:\n",
        "    print(\"You are a minor.\")\n",
        "elif age < 65:\n",
        "    print(\"You are an adult.\")\n",
        "else:\n",
        "    print(\"You are a senior citizen.\")\n"
      ],
      "metadata": {
        "colab": {
          "base_uri": "https://localhost:8080/"
        },
        "id": "gboC10WTuzLM",
        "outputId": "72058024-e109-4a1e-dd59-a1a4f91d232a"
      },
      "execution_count": 8,
      "outputs": [
        {
          "output_type": "stream",
          "name": "stdout",
          "text": [
            "You are an adult.\n"
          ]
        }
      ]
    },
    {
      "cell_type": "code",
      "source": [
        "age = 25\n",
        "\n",
        "if age < 0:\n",
        "    print(\"Age cannot be negative.\")\n",
        "if age >= 0 and age < 18:\n",
        "    print(\"You are a minor.\")\n",
        "if age >= 18 and age < 65:\n",
        "    print(\"You are an adult.\")\n",
        "if age >= 65:\n",
        "    print(\"You are a senior citizen.\")"
      ],
      "metadata": {
        "colab": {
          "base_uri": "https://localhost:8080/"
        },
        "id": "8mVepwrSu4HM",
        "outputId": "db57bea0-83bb-4803-9796-fe253f13e931"
      },
      "execution_count": 14,
      "outputs": [
        {
          "output_type": "stream",
          "name": "stdout",
          "text": [
            "You are an adult.\n"
          ]
        }
      ]
    },
    {
      "cell_type": "markdown",
      "source": [
        "The `and` and `or` operators in Python are used to combine multiple conditions in if statements or boolean expressions. Here's how they work:\n",
        "\n",
        "`and` Operator:  The `and` operator returns `True` if both conditions on its left and right sides are `True`.\n",
        "If any of the conditions is False, the and operator returns `False`.\n",
        "\n",
        "`or` Operator: The or operator returns `True` if at least one of the conditions on its left or right sides is `True`.\n",
        "If both conditions are `False`, the or operator returns `False`."
      ],
      "metadata": {
        "id": "K6c2p4zMvqRL"
      }
    },
    {
      "cell_type": "code",
      "source": [
        "# Using 'and' operator\n",
        "x = 10\n",
        "y = 20\n",
        "\n",
        "if x > 0 and y < 30:\n",
        "    print(\"Both conditions are True.\")\n",
        "\n",
        "# Using 'or' operator\n",
        "if x > 15 or y < 15:\n",
        "    print(\"At least one condition is True.\")"
      ],
      "metadata": {
        "colab": {
          "base_uri": "https://localhost:8080/"
        },
        "id": "Ah-dB9h1xMEX",
        "outputId": "92136820-e58e-4dc0-9e16-d48c5bddd6fc"
      },
      "execution_count": 16,
      "outputs": [
        {
          "output_type": "stream",
          "name": "stdout",
          "text": [
            "Both conditions are True.\n"
          ]
        }
      ]
    },
    {
      "cell_type": "code",
      "source": [
        "#factorial of a number\n",
        "\n",
        "# Calculate factorial without using a function\n",
        "number = 5\n",
        "factorial = 1\n",
        "\n",
        "for i in range(1, number + 1):\n",
        "    factorial *= i\n",
        "\n",
        "print(f\"The factorial of {number} is {factorial}.\")"
      ],
      "metadata": {
        "colab": {
          "base_uri": "https://localhost:8080/"
        },
        "id": "PPCxsprIzYDC",
        "outputId": "998493cf-e5eb-4a7a-d8db-27f59bacc148"
      },
      "execution_count": 18,
      "outputs": [
        {
          "output_type": "stream",
          "name": "stdout",
          "text": [
            "The factorial of 5 is 120.\n"
          ]
        }
      ]
    },
    {
      "cell_type": "code",
      "source": [
        "# Nested for loop to create a multiplication table\n",
        "for i in range(1, 6):  # Outer loop for rows\n",
        "    for j in range(1, 11):  # Inner loop for columns\n",
        "        product = i * j\n",
        "        print(f\"{i} * {j} = {product}\")\n",
        "    print()  # Add a new line after each row"
      ],
      "metadata": {
        "colab": {
          "base_uri": "https://localhost:8080/"
        },
        "id": "42Dyym_WzIfh",
        "outputId": "702b171c-31b1-485f-cb38-d7a0786f71f3"
      },
      "execution_count": 17,
      "outputs": [
        {
          "output_type": "stream",
          "name": "stdout",
          "text": [
            "1 * 1 = 1\n",
            "1 * 2 = 2\n",
            "1 * 3 = 3\n",
            "1 * 4 = 4\n",
            "1 * 5 = 5\n",
            "1 * 6 = 6\n",
            "1 * 7 = 7\n",
            "1 * 8 = 8\n",
            "1 * 9 = 9\n",
            "1 * 10 = 10\n",
            "\n",
            "2 * 1 = 2\n",
            "2 * 2 = 4\n",
            "2 * 3 = 6\n",
            "2 * 4 = 8\n",
            "2 * 5 = 10\n",
            "2 * 6 = 12\n",
            "2 * 7 = 14\n",
            "2 * 8 = 16\n",
            "2 * 9 = 18\n",
            "2 * 10 = 20\n",
            "\n",
            "3 * 1 = 3\n",
            "3 * 2 = 6\n",
            "3 * 3 = 9\n",
            "3 * 4 = 12\n",
            "3 * 5 = 15\n",
            "3 * 6 = 18\n",
            "3 * 7 = 21\n",
            "3 * 8 = 24\n",
            "3 * 9 = 27\n",
            "3 * 10 = 30\n",
            "\n",
            "4 * 1 = 4\n",
            "4 * 2 = 8\n",
            "4 * 3 = 12\n",
            "4 * 4 = 16\n",
            "4 * 5 = 20\n",
            "4 * 6 = 24\n",
            "4 * 7 = 28\n",
            "4 * 8 = 32\n",
            "4 * 9 = 36\n",
            "4 * 10 = 40\n",
            "\n",
            "5 * 1 = 5\n",
            "5 * 2 = 10\n",
            "5 * 3 = 15\n",
            "5 * 4 = 20\n",
            "5 * 5 = 25\n",
            "5 * 6 = 30\n",
            "5 * 7 = 35\n",
            "5 * 8 = 40\n",
            "5 * 9 = 45\n",
            "5 * 10 = 50\n",
            "\n"
          ]
        }
      ]
    },
    {
      "cell_type": "markdown",
      "source": [
        "The Fibonacci series is a sequence of numbers where each number is the sum of the two preceding ones, usually starting with 0 and 1."
      ],
      "metadata": {
        "id": "Mml_XpfA1l4e"
      }
    },
    {
      "cell_type": "code",
      "source": [
        "# Generate Fibonacci series\n",
        "\n",
        "num_terms = 10  # Number of terms in the series\n",
        "a = 0  # First term\n",
        "b = 1  # Second term\n",
        "\n",
        "print(\"Fibonacci series:\")\n",
        "for i in range(num_terms):\n",
        "    print(a, end=\" \")  # Print the current term\n",
        "    a = b  # Update the first term to the second term\n",
        "    b = a + b  # Update the second term to the sum of the previous two terms\n"
      ],
      "metadata": {
        "colab": {
          "base_uri": "https://localhost:8080/"
        },
        "id": "_lgp8ZjZ1Alr",
        "outputId": "ac07dddb-5b6c-46dc-c0ee-d2ef02da22db"
      },
      "execution_count": 27,
      "outputs": [
        {
          "output_type": "stream",
          "name": "stdout",
          "text": [
            "Fibonacci series:\n",
            "0 1 2 4 8 16 32 64 128 256 "
          ]
        }
      ]
    }
  ]
}