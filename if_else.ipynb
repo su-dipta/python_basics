{
  "nbformat": 4,
  "nbformat_minor": 0,
  "metadata": {
    "colab": {
      "provenance": [],
      "authorship_tag": "ABX9TyPOTa50d6aOXQoZgJI9RUxy",
      "include_colab_link": true
    },
    "kernelspec": {
      "name": "python3",
      "display_name": "Python 3"
    },
    "language_info": {
      "name": "python"
    }
  },
  "cells": [
    {
      "cell_type": "markdown",
      "metadata": {
        "id": "view-in-github",
        "colab_type": "text"
      },
      "source": [
        "<a href=\"https://colab.research.google.com/github/su-dipta/python_basics/blob/main/if_else.ipynb\" target=\"_parent\"><img src=\"https://colab.research.google.com/assets/colab-badge.svg\" alt=\"Open In Colab\"/></a>"
      ]
    },
    {
      "cell_type": "code",
      "execution_count": null,
      "metadata": {
        "id": "3VXO0mwXl6qt"
      },
      "outputs": [],
      "source": [
        "#checking a number type\n",
        "\n",
        "num = -25\n",
        "\n",
        "if num > 0:\n",
        "    print(\"The number is positive.\")\n",
        "elif num == 0:\n",
        "    print(\"The number is zero.\")\n",
        "else:\n",
        "    print(\"The number is negative.\")"
      ]
    },
    {
      "cell_type": "code",
      "source": [
        "numbers = [10, 5, 7, 15, 3]\n",
        "max_num = numbers[0]  # Assume the first number is the maximum initially\n",
        "\n",
        "for num in numbers:\n",
        "    if num > max_num:\n",
        "        max_num = num\n",
        "\n",
        "print(f\"The maximum number in the list is: {max_num}\")"
      ],
      "metadata": {
        "id": "ZGI5gGGpjVhZ"
      },
      "execution_count": null,
      "outputs": []
    },
    {
      "cell_type": "code",
      "source": [
        "numbers = [1, 2, 3, 4, 5]\n",
        "\n",
        "for num in numbers:\n",
        "    if num % 2 == 0:\n",
        "        print(f\"{num} is even\")\n",
        "    else:\n",
        "        print(f\"{num} is odd\")"
      ],
      "metadata": {
        "id": "EP89AytIj7hf"
      },
      "execution_count": null,
      "outputs": []
    },
    {
      "cell_type": "code",
      "source": [
        "#checking a prime number\n",
        "\n",
        "num = 15\n",
        "is_prime = True\n",
        "\n",
        "if num <= 1:\n",
        "    is_prime = False\n",
        "else:\n",
        "    for i in range(2, int(num**0.5) + 1):\n",
        "        if num % i == 0:\n",
        "            is_prime = False\n",
        "            break\n",
        "\n",
        "if is_prime:\n",
        "    print(f\"{num} is a prime number.\")\n",
        "else:\n",
        "    print(f\"{num} is not a prime number.\")"
      ],
      "metadata": {
        "id": "yG7jowh0rVas"
      },
      "execution_count": null,
      "outputs": []
    },
    {
      "cell_type": "code",
      "source": [
        "#determining largest of three numbers\n",
        "a = 15\n",
        "b = 27\n",
        "c = 10\n",
        "\n",
        "if a >= b and a >= c:\n",
        "    largest = a\n",
        "elif b >= a and b >= c:\n",
        "    largest = b\n",
        "else:\n",
        "    largest = c\n",
        "\n",
        "print(f\"The largest number among {a}, {b}, and {c} is {largest}.\")"
      ],
      "metadata": {
        "id": "djDYiDQ0sxyQ"
      },
      "execution_count": null,
      "outputs": []
    },
    {
      "cell_type": "code",
      "source": [
        "age = 25\n",
        "\n",
        "if age < 0:\n",
        "    print(\"Age cannot be negative.\")\n",
        "elif age < 18:\n",
        "    print(\"You are a minor.\")\n",
        "elif age < 65:\n",
        "    print(\"You are an adult.\")\n",
        "else:\n",
        "    print(\"You are a senior citizen.\")\n"
      ],
      "metadata": {
        "id": "gboC10WTuzLM"
      },
      "execution_count": null,
      "outputs": []
    },
    {
      "cell_type": "code",
      "source": [
        "age = 25\n",
        "\n",
        "if age < 0:\n",
        "    print(\"Age cannot be negative.\")\n",
        "if age >= 0 and age < 18:\n",
        "    print(\"You are a minor.\")\n",
        "if age >= 18 and age < 65:\n",
        "    print(\"You are an adult.\")\n",
        "if age >= 65:\n",
        "    print(\"You are a senior citizen.\")"
      ],
      "metadata": {
        "id": "8mVepwrSu4HM"
      },
      "execution_count": null,
      "outputs": []
    },
    {
      "cell_type": "markdown",
      "source": [
        "The `and` and `or` operators in Python are used to combine multiple conditions in if statements or boolean expressions. Here's how they work:\n",
        "\n",
        "`and` Operator:  The `and` operator returns `True` if both conditions on its left and right sides are `True`.\n",
        "If any of the conditions is False, the and operator returns `False`.\n",
        "\n",
        "`or` Operator: The or operator returns `True` if at least one of the conditions on its left or right sides is `True`.\n",
        "If both conditions are `False`, the or operator returns `False`."
      ],
      "metadata": {
        "id": "K6c2p4zMvqRL"
      }
    },
    {
      "cell_type": "code",
      "source": [
        "# Using 'and' operator\n",
        "x = 10\n",
        "y = 20\n",
        "\n",
        "if x > 0 and y < 30:\n",
        "    print(\"Both conditions are True.\")\n",
        "\n",
        "# Using 'or' operator\n",
        "if x > 15 or y < 15:\n",
        "    print(\"At least one condition is True.\")"
      ],
      "metadata": {
        "id": "Ah-dB9h1xMEX"
      },
      "execution_count": null,
      "outputs": []
    },
    {
      "cell_type": "code",
      "source": [
        "#factorial of a number\n",
        "\n",
        "# Calculate factorial without using a function\n",
        "number = 5\n",
        "factorial = 1\n",
        "\n",
        "for i in range(1, number + 1):\n",
        "    factorial *= i\n",
        "\n",
        "print(f\"The factorial of {number} is {factorial}.\")"
      ],
      "metadata": {
        "colab": {
          "base_uri": "https://localhost:8080/"
        },
        "id": "PPCxsprIzYDC",
        "outputId": "9cc456c2-93f3-43b2-9224-f031019ec421"
      },
      "execution_count": 2,
      "outputs": [
        {
          "output_type": "stream",
          "name": "stdout",
          "text": [
            "The factorial of 5 is 120.\n"
          ]
        }
      ]
    },
    {
      "cell_type": "code",
      "source": [
        "# Nested for loop to create a multiplication table\n",
        "for i in range(1, 6):  # Outer loop for rows\n",
        "    for j in range(1, 11):  # Inner loop for columns\n",
        "        product = i * j\n",
        "        print(f\"{i} * {j} = {product}\")\n",
        "    print()  # Add a new line after each row"
      ],
      "metadata": {
        "id": "42Dyym_WzIfh"
      },
      "execution_count": null,
      "outputs": []
    },
    {
      "cell_type": "markdown",
      "source": [
        "The Fibonacci series is a sequence of numbers where each number is the sum of the two preceding ones, usually starting with 0 and 1."
      ],
      "metadata": {
        "id": "Mml_XpfA1l4e"
      }
    },
    {
      "cell_type": "code",
      "source": [
        "# Generate Fibonacci series\n",
        "\n",
        "num_terms = 10  # Number of terms in the series\n",
        "a = 0  # First term\n",
        "b = 1  # Second term\n",
        "\n",
        "print(\"Fibonacci series:\")\n",
        "for i in range(num_terms):\n",
        "    print(a, end=\" \")  # Print the current term\n",
        "    a = b  # Update the first term to the second term\n",
        "    b = a + b  # Update the second term to the sum of the previous two terms\n"
      ],
      "metadata": {
        "id": "_lgp8ZjZ1Alr"
      },
      "execution_count": null,
      "outputs": []
    },
    {
      "cell_type": "code",
      "source": [
        "import math\n",
        "\n",
        "# Constants\n",
        "x = 2  # Value of x\n",
        "num_terms = 5  # Number of terms in the series\n",
        "\n",
        "# Calculate sum of e^-x series\n",
        "sum_series = 0\n",
        "for n in range(num_terms):\n",
        "    term = (-1) ** n * (x ** n) / math.factorial(n)  # Calculate each term of the series\n",
        "    sum_series += term  # A\n",
        "dd the term to the sum\n",
        "\n",
        "print(f\"The sum of the series e^-{x} is {sum_series}.\")"
      ],
      "metadata": {
        "id": "ECtLj5T32qdb"
      },
      "execution_count": null,
      "outputs": []
    },
    {
      "cell_type": "code",
      "source": [
        "#velocity check\n",
        "velocities = [50, 150, 300, 550, 75, 400]\n",
        "classified_molecules = []\n",
        "\n",
        "for velocity in velocities:\n",
        "    if velocity < 100:\n",
        "        classification = \"slow\"\n",
        "    elif velocity >= 100 and velocity < 500:\n",
        "        classification = \"moderate\"\n",
        "    else:\n",
        "        classification = \"fast\"\n",
        "\n",
        "    classified_molecules.append((velocity, classification))\n",
        "\n",
        "print(classified_molecules)\n",
        "print(\"Molecules and their classifications:\")\n",
        "for molecule in classified_molecules:\n",
        "    print(f\"Velocity: {molecule[0]} m/s, Classification: {molecule[1]}\")"
      ],
      "metadata": {
        "id": "41adGgXZkbng"
      },
      "execution_count": null,
      "outputs": []
    },
    {
      "cell_type": "code",
      "source": [],
      "metadata": {
        "id": "z8wTf77Xm3Yj"
      },
      "execution_count": null,
      "outputs": []
    },
    {
      "cell_type": "code",
      "source": [
        "#molecule check\n",
        "compounds = [(\"H\", 2, \"O\", 1), (\"C\", 6, \"H\", 6), (\"C\", 12, \"H\", 22, \"O\", 11), (\"C\", 4, \"H\", 10, \"N\", 2)]\n",
        "\n",
        "classified_compounds = []\n",
        "\n",
        "for compound in compounds:\n",
        "    if \"C\" in compound and \"H\" in compound and \"O\" not in compound and len(compound) == 4:\n",
        "        classification = \"hydrocarbon\"\n",
        "    elif \"C\" in compound and \"H\" in compound and \"O\" in compound:\n",
        "        classification = \"organic compound\"\n",
        "    else:\n",
        "        classification = \"mixed compound\"\n",
        "\n",
        "    classified_compounds.append((compound, classification))\n",
        "\n",
        "print(\"Compounds and their classifications:\")\n",
        "for entry in classified_compounds:\n",
        "    print(f\"Compound: {entry[0]}, Classification: {entry[1]}\")"
      ],
      "metadata": {
        "id": "83sT_E0Slt7_"
      },
      "execution_count": null,
      "outputs": []
    },
    {
      "cell_type": "code",
      "source": [
        "num_terms = 10\n",
        "a, b = 0, 1\n",
        "fib_series = []\n",
        "\n",
        "for _ in range(num_terms):\n",
        "    fib_series.append(a)\n",
        "    a, b = b, a + b\n",
        "\n",
        "print(\"Fibonacci Series up to\", num_terms, \"terms:\")\n",
        "print(fib_series)"
      ],
      "metadata": {
        "id": "sm6in9UWneH5"
      },
      "execution_count": null,
      "outputs": []
    },
    {
      "cell_type": "code",
      "source": [],
      "metadata": {
        "id": "gB_Kt3MPpND3"
      },
      "execution_count": null,
      "outputs": []
    },
    {
      "cell_type": "code",
      "source": [
        "def add(x, y):\n",
        "    return x + y\n",
        "\n",
        "sum = add(2,3)\n",
        "print(\"addition :\", sum)"
      ],
      "metadata": {
        "id": "jF0WUFwim6FW"
      },
      "execution_count": null,
      "outputs": []
    },
    {
      "cell_type": "code",
      "source": [
        "\n",
        "def factorial(n):\n",
        "    if n == 0:\n",
        "        return 1\n",
        "    else:\n",
        "        return n * factorial(n - 1)\n",
        "\n",
        "# Example usage:\n",
        "number = 5\n",
        "fact = factorial(number)\n",
        "print(f\"Factorial of {number} is:\", fact)"
      ],
      "metadata": {
        "id": "I94HV6nLpX96"
      },
      "execution_count": null,
      "outputs": []
    },
    {
      "cell_type": "code",
      "source": [
        "def count_atoms(compounds, element):\n",
        "    atom_counts = {}\n",
        "\n",
        "    for compound in compounds:\n",
        "        count = compound.count(element)\n",
        "        atom_counts[compound] = count\n",
        "\n",
        "    return atom_counts\n",
        "\n",
        "# Example usage:\n",
        "compounds_list = [\"H2O\", \"CO2\", \"CH4\", \"H2SO4\"]\n",
        "element_to_count = \"O\"\n",
        "result = count_atoms(compounds_list, element_to_count)\n",
        "print(f\"Counts of '{element_to_count}' in compounds:\")\n",
        "print(result)"
      ],
      "metadata": {
        "id": "TtiM-51cp9ya"
      },
      "execution_count": null,
      "outputs": []
    },
    {
      "cell_type": "code",
      "source": [
        "Num  = 17\n",
        "if Num %2 == 0:\n",
        "   print(\"num is prime\")\n",
        "else:\n",
        "   print(\"num is not a prime\")"
      ],
      "metadata": {
        "id": "6Z9LKronyBC2"
      },
      "execution_count": null,
      "outputs": []
    }
  ]
}