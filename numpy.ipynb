{
  "nbformat": 4,
  "nbformat_minor": 0,
  "metadata": {
    "colab": {
      "provenance": [],
      "authorship_tag": "ABX9TyO3BMTkg4JEoTm50oiG5Meu",
      "include_colab_link": true
    },
    "kernelspec": {
      "name": "python3",
      "display_name": "Python 3"
    },
    "language_info": {
      "name": "python"
    }
  },
  "cells": [
    {
      "cell_type": "markdown",
      "metadata": {
        "id": "view-in-github",
        "colab_type": "text"
      },
      "source": [
        "<a href=\"https://colab.research.google.com/github/su-dipta/python_basics/blob/main/numpy.ipynb\" target=\"_parent\"><img src=\"https://colab.research.google.com/assets/colab-badge.svg\" alt=\"Open In Colab\"/></a>"
      ]
    },
    {
      "cell_type": "code",
      "execution_count": 1,
      "metadata": {
        "id": "H1hR6cjUvchf"
      },
      "outputs": [],
      "source": [
        "import numpy as np"
      ]
    },
    {
      "cell_type": "code",
      "source": [
        "#creating an array or matrix\n",
        "# a matrix is 2 dimensional array\n",
        "\n",
        "a = np.array([[3, 4, 5],\n",
        "            [7, -9, 8],\n",
        "             [12, 11, -1]])\n",
        "\n",
        "#rank of a matrix\n",
        "print(\"\\nRank of a:\", np.linalg.matrix_rank(a))\n",
        "\n",
        "# Trace of matrix a (Trace = sum of diagonal elements , here for example: trace = 3-9-1)\n",
        "print(\"\\nTrace of a:\", np.trace(a))\n",
        "\n",
        "# Determinant of a matrix\n",
        "print(\"\\nDeterminant of a:\", np.linalg.det(a))\n",
        "\n",
        "# Inverse of matrix a\n",
        "print(\"\\nInverse of a:\\n\", np.linalg.inv(a))"
      ],
      "metadata": {
        "colab": {
          "base_uri": "https://localhost:8080/"
        },
        "id": "3qt1Gv_bv44S",
        "outputId": "3791b796-aa0c-421b-cd60-bb985b5e00e3"
      },
      "execution_count": 3,
      "outputs": [
        {
          "output_type": "stream",
          "name": "stdout",
          "text": [
            "\n",
            "Rank of a: 3\n",
            "\n",
            "Trace of a: -7\n",
            "\n",
            "Determinant of a: 1100.0000000000007\n",
            "\n",
            "Inverse of a:\n",
            " [[-0.07181818  0.05363636  0.07      ]\n",
            " [ 0.09363636 -0.05727273  0.01      ]\n",
            " [ 0.16818182  0.01363636 -0.05      ]]\n"
          ]
        }
      ]
    },
    {
      "cell_type": "code",
      "source": [
        "a = np.array([[3, 4, 5],\n",
        "            [7, -9, 8],\n",
        "             [12, 11, -1]])\n",
        "\n",
        "print(np.trace(a))"
      ],
      "metadata": {
        "colab": {
          "base_uri": "https://localhost:8080/"
        },
        "id": "TrQkcxAIYwhO",
        "outputId": "34750d5a-365b-49c2-e588-eda2b9f3a201"
      },
      "execution_count": 2,
      "outputs": [
        {
          "output_type": "stream",
          "name": "stdout",
          "text": [
            "-7\n"
          ]
        }
      ]
    },
    {
      "cell_type": "code",
      "source": [
        "a = np.array([[3, 4, 5],\n",
        "            [7, -9, 8],\n",
        "             [12, 11, -1]])\n",
        "\n",
        "b =  np.array([[1, 2, 3],\n",
        "            [2, 1, 4],\n",
        "             [0, 2, 1]])\n",
        "c = np.dot(a,b)\n",
        "print(c.T,\"\\n\")\n",
        "print(c)"
      ],
      "metadata": {
        "colab": {
          "base_uri": "https://localhost:8080/"
        },
        "id": "KVn4bT8hcq1I",
        "outputId": "51929a9d-bf2d-41f7-b04c-bf3440c1c7dd"
      },
      "execution_count": 17,
      "outputs": [
        {
          "output_type": "stream",
          "name": "stdout",
          "text": [
            "[[ 11 -11  34]\n",
            " [ 20  21  33]\n",
            " [ 30  -7  79]] \n",
            "\n",
            "[[ 11  20  30]\n",
            " [-11  21  -7]\n",
            " [ 34  33  79]]\n"
          ]
        }
      ]
    },
    {
      "cell_type": "code",
      "source": [
        "#eigen value and eigen vectors of a matrix\n",
        "\n",
        "a = np.array([[3, 4, 5],\n",
        "            [7, -9, 8],\n",
        "             [12, 11, -1]])\n",
        "\n",
        "eval, evec = np.linalg.eig(a)\n",
        "print(\"eigen values of this matrix are \", eval, \"\\n\")\n",
        "print(\"eigen vectors of this matrix are \\n\" , evec)"
      ],
      "metadata": {
        "colab": {
          "base_uri": "https://localhost:8080/"
        },
        "id": "H_fITfmU8zYR",
        "outputId": "ed69c764-d317-4166-8665-1eaeedb2cde2"
      },
      "execution_count": 18,
      "outputs": [
        {
          "output_type": "stream",
          "name": "stdout",
          "text": [
            "eigen values of this matrix are  [ 13.54322261  -5.34367442 -15.19954819] \n",
            "\n",
            "eigen vectors of this matrix are \n",
            " [[ 0.51438507  0.6027327   0.00719052]\n",
            " [ 0.42420768 -0.38058431 -0.79345275]\n",
            " [ 0.7452891  -0.70133364  0.60858937]]\n"
          ]
        }
      ]
    },
    {
      "cell_type": "code",
      "source": [
        "b = np.array([[1, 2, 3],\n",
        "            [2, 1, 4],\n",
        "             [0, 2, 1]])\n",
        "eval, evec = np.linalg.eig(b)\n",
        "print(eval)"
      ],
      "metadata": {
        "colab": {
          "base_uri": "https://localhost:8080/"
        },
        "id": "w3UO7wDCAEkE",
        "outputId": "63f4e6f3-cfa2-43f7-bdab-263034093e08"
      },
      "execution_count": null,
      "outputs": [
        {
          "output_type": "stream",
          "name": "stdout",
          "text": [
            "[-1.76873431 -0.1157494   4.8844837 ]\n"
          ]
        }
      ]
    },
    {
      "cell_type": "code",
      "source": [
        "b = np.array([[1, 4],\n",
        "            [2, 3]])\n",
        "\n",
        "eval, evec = np.linalg.eig(b)\n",
        "print(eval)\n",
        "print(np.round(evec,2))"
      ],
      "metadata": {
        "colab": {
          "base_uri": "https://localhost:8080/"
        },
        "id": "wWQ4a4dRJM1w",
        "outputId": "924a9804-7d6a-40db-cfcd-f7bfa9072599"
      },
      "execution_count": null,
      "outputs": [
        {
          "output_type": "stream",
          "name": "stdout",
          "text": [
            "[-1.  5.]\n",
            "[[-0.89 -0.71]\n",
            " [ 0.45 -0.71]]\n"
          ]
        }
      ]
    },
    {
      "cell_type": "code",
      "source": [
        "#matrix multiplication\n",
        "\n",
        "a = np.array([[1, 4, 5,4],\n",
        "            [2, 3, 6,5],\n",
        "             [3, 5, 7,6]])\n",
        "\n",
        "b = np.array([[5, 10, 15],\n",
        "             [21, 0, 6],\n",
        "             [7, 8, -8]])\n",
        "\n",
        "c = np.matmul(b,a)\n",
        "print(c)\n",
        "print(c.reshape(-1))"
      ],
      "metadata": {
        "colab": {
          "base_uri": "https://localhost:8080/"
        },
        "id": "0N9xPwjKJR7l",
        "outputId": "0030f567-b62a-4cd3-d3eb-5135d0c29a49"
      },
      "execution_count": null,
      "outputs": [
        {
          "output_type": "stream",
          "name": "stdout",
          "text": [
            "[[ 70 125 190 160]\n",
            " [ 39 114 147 120]\n",
            " [ -1  12  27  20]]\n",
            "[ 70 125 190 160  39 114 147 120  -1  12  27  20]\n"
          ]
        }
      ]
    },
    {
      "cell_type": "code",
      "source": [
        "#Sorting\n",
        "\n",
        "matrix = np.array([[3, 1, 4],\n",
        "                   [1, 5, 9],\n",
        "                   [2, 6, 5]])\n",
        "\n",
        "# Sort rows of the matrix\n",
        "sorted_rows = np.sort(matrix, axis=1)\n",
        "print(\"Sorted rows:\")\n",
        "print(sorted_rows)\n",
        "\n",
        "# Sort columns of the matrix\n",
        "sorted_columns = np.sort(matrix, axis=0)\n",
        "print(\"\\nSorted columns:\")\n",
        "print(sorted_columns)"
      ],
      "metadata": {
        "colab": {
          "base_uri": "https://localhost:8080/"
        },
        "id": "SIplKn7sQCaJ",
        "outputId": "03c7ea19-af0a-4573-dc16-2dc8b1d2f908"
      },
      "execution_count": 20,
      "outputs": [
        {
          "output_type": "stream",
          "name": "stdout",
          "text": [
            "Sorted rows:\n",
            "[[1 3 4]\n",
            " [1 5 9]\n",
            " [2 5 6]]\n",
            "\n",
            "Sorted columns:\n",
            "[[1 1 4]\n",
            " [2 5 5]\n",
            " [3 6 9]]\n"
          ]
        }
      ]
    },
    {
      "cell_type": "code",
      "source": [
        "matrix = np.array([[3, 1, 4],\n",
        "                   [1, 5, 9],\n",
        "                   [2, 6, 5]])\n",
        "\n",
        "# Calculate mean of rows and columns\n",
        "row_means = np.mean(matrix, axis=1)\n",
        "col_means = np.mean(matrix, axis=0)\n",
        "print(\"row_means \", row_means)\n",
        "print(\"col_means \", col_means)"
      ],
      "metadata": {
        "colab": {
          "base_uri": "https://localhost:8080/"
        },
        "id": "WgRtFyAPlBll",
        "outputId": "54abd1e5-caa6-4c47-878f-65fd56bf3b88"
      },
      "execution_count": 23,
      "outputs": [
        {
          "output_type": "stream",
          "name": "stdout",
          "text": [
            "row_means  [2.66666667 5.         4.33333333]\n",
            "col_means  [2. 4. 6.]\n"
          ]
        }
      ]
    },
    {
      "cell_type": "code",
      "source": [
        "# Create a sample matrix\n",
        "matrix = np.array([[3, 1, 4],\n",
        "                   [1, 5, 9],\n",
        "                   [2, 6, 5]])\n",
        "\n",
        "# Calculate sum of rows and columns\n",
        "row_sums = np.sum(matrix, axis=1)\n",
        "col_sums = np.sum(matrix, axis=0)\n",
        "\n",
        "# Calculate mean of rows and columns\n",
        "row_means = np.mean(matrix, axis=1)\n",
        "col_means = np.mean(matrix, axis=0)\n",
        "\n",
        "# Calculate maximum of rows and columns\n",
        "row_max = np.max(matrix, axis=1)\n",
        "col_max = np.max(matrix, axis=0)\n",
        "\n",
        "# Calculate minimum of rows and columns\n",
        "row_min = np.min(matrix, axis=1)\n",
        "col_min = np.min(matrix, axis=0)\n",
        "\n",
        "# Print the results\n",
        "print(\"Sum of rows:\", row_sums)\n",
        "print(\"Sum of columns:\", col_sums)\n",
        "print(\"Mean of rows:\", row_means)\n",
        "print(\"Mean of columns:\", col_means)\n",
        "print(\"Maximum of rows:\", row_max)\n",
        "print(\"Maximum of columns:\", col_max)\n",
        "print(\"Minimum of rows:\", row_min)\n",
        "print(\"Minimum of columns:\", col_min)"
      ],
      "metadata": {
        "colab": {
          "base_uri": "https://localhost:8080/"
        },
        "id": "dbJ6_uNfQqta",
        "outputId": "1e4a9423-e211-4f9e-83d0-683305a17d40"
      },
      "execution_count": null,
      "outputs": [
        {
          "output_type": "stream",
          "name": "stdout",
          "text": [
            "Sum of rows: [ 8 15 13]\n",
            "Sum of columns: [ 6 12 18]\n",
            "Mean of rows: [2.66666667 5.         4.33333333]\n",
            "Mean of columns: [2. 4. 6.]\n",
            "Maximum of rows: [4 9 6]\n",
            "Maximum of columns: [3 6 9]\n",
            "Minimum of rows: [1 1 2]\n",
            "Minimum of columns: [1 1 4]\n"
          ]
        }
      ]
    },
    {
      "cell_type": "code",
      "source": [
        "def process_matrices(matrix1, matrix2):\n",
        "\n",
        "    # Step 1: Multiply the matrices using NumPy\n",
        "    result_matrix = np.dot(matrix1, matrix2)\n",
        "\n",
        "    # Step 2: Calculate the trace of the resulting matrix\n",
        "    trace_result = np.trace(result_matrix)\n",
        "\n",
        "    # Step 3: Check if the trace exceeds the sum of the first row elements of either matrix\n",
        "    #print(matrix1[0, 0:2])\n",
        "    sum_first_row_matrix1 = np.sum(matrix1[0, :])\n",
        "    sum_first_row_matrix2 = np.sum(matrix2[0, :])\n",
        "\n",
        "    if trace_result > sum_first_row_matrix1:\n",
        "        message = f\"Trace is greater than the first row elements sum of matrix 1 ({sum_first_row_matrix1})\"\n",
        "    elif trace_result > sum_first_row_matrix2:\n",
        "        message = f\"Trace is greater than the first row elements sum of matrix 2 ({sum_first_row_matrix2})\"\n",
        "    else:\n",
        "        message = \"Trace does not exceed the sum of the first row elements of either matrix.\"\n",
        "\n",
        "    # Step 4: Add the trace to the diagonal elements of the satisfied matrix\n",
        "    satisfied_matrix = result_matrix + trace_result * np.eye(result_matrix.shape[0])\n",
        "\n",
        "    # Step 5: Calculate the eigenvalues and eigenvectors of the resulting matrix\n",
        "    eigenvalues, eigenvectors = np.linalg.eig(satisfied_matrix)\n",
        "\n",
        "    #Step 6:\n",
        "\n",
        "    #sorting rows of the satisfied matrix:\n",
        "    sorted_rows = np.sort(satisfied_matrix, axis=1)\n",
        "    print(\"sorted rows \\n\", sorted_rows)\n",
        "\n",
        "\n",
        "    #sorting columns of the satisfied matrix:\n",
        "    sorted_columns = np.sort(satisfied_matrix, axis=0)\n",
        "    print(\"\\nsorted columns \\n\", sorted_columns, \"\\n \\n\")\n",
        "\n",
        "    return result_matrix, trace_result, message, satisfied_matrix, eigenvalues, eigenvectors\n",
        "\n",
        "# Define two 3x3 matrices\n",
        "matrix1 = np.array([[1, 2, 3],\n",
        "                     [4, 5, 6],\n",
        "                     [7, 8, 9]])\n",
        "\n",
        "matrix2 = np.array([[9, 8, 7],\n",
        "                     [6, 5, 4],\n",
        "                     [3, 2, 1]])\n",
        "\n",
        "# Call the function to process the matrices\n",
        "result_matrix, trace_result, message, satisfied_matrix, eigenvalues, eigenvectors = process_matrices(matrix1, matrix2)\n",
        "\n",
        "print(message)\n",
        "\n",
        "print(\"\\nResulting Matrix:\")\n",
        "print(satisfied_matrix)\n",
        "\n",
        "print(\"\\nEigenvalues:\")\n",
        "print(eigenvalues)\n",
        "\n",
        "print(\"\\nEigenvectors:\")\n",
        "print(eigenvectors)\n"
      ],
      "metadata": {
        "colab": {
          "base_uri": "https://localhost:8080/"
        },
        "id": "daEE3jcGkDOE",
        "outputId": "ab1f5ec9-8c08-4f85-bd3e-eaaa9d2294b8"
      },
      "execution_count": null,
      "outputs": [
        {
          "output_type": "stream",
          "name": "stdout",
          "text": [
            "[1 2]\n",
            "sorted rows \n",
            " [[ 18.  24. 219.]\n",
            " [ 54.  84. 258.]\n",
            " [114. 138. 279.]]\n",
            "\n",
            "sorted columns \n",
            " [[ 84.  24.  18.]\n",
            " [138. 114.  54.]\n",
            " [219. 258. 279.]] \n",
            " \n",
            "\n",
            "Trace is greater than the first row elements sum of matrix 1 (6)\n",
            "\n",
            "Resulting Matrix:\n",
            "[[219.  24.  18.]\n",
            " [ 84. 258.  54.]\n",
            " [138. 114. 279.]]\n",
            "\n",
            "Eigenvalues:\n",
            "[376.26987658 190.73012342 189.        ]\n",
            "\n",
            "Eigenvectors:\n",
            "[[ 0.17412685  0.59431808  0.40824829]\n",
            " [ 0.5086532  -0.10172622 -0.81649658]\n",
            " [ 0.84317955 -0.79777052  0.40824829]]\n"
          ]
        }
      ]
    }
  ]
}