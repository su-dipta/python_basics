{
  "cells": [
    {
      "cell_type": "markdown",
      "metadata": {
        "id": "view-in-github",
        "colab_type": "text"
      },
      "source": [
        "<a href=\"https://colab.research.google.com/github/su-dipta/python_basics/blob/main/problem_1_to_3.ipynb\" target=\"_parent\"><img src=\"https://colab.research.google.com/assets/colab-badge.svg\" alt=\"Open In Colab\"/></a>"
      ]
    },
    {
      "cell_type": "code",
      "execution_count": null,
      "metadata": {
        "id": "2FK-HKoimrn_"
      },
      "outputs": [],
      "source": [
        "#problem 1:\n",
        "\n",
        "def check_numbers(numbers):\n",
        "    result = []\n",
        "    for num in numbers:\n",
        "        if num > 10 and num % 2 == 0:\n",
        "            result.append(num)\n",
        "    return result\n",
        "\n",
        "# Test the function\n",
        "numbers_list = [5, 12, 8, 15, 20, 9, 10]\n",
        "print(check_numbers(numbers_list))  # Output: [12, 20]\n"
      ]
    },
    {
      "cell_type": "code",
      "execution_count": null,
      "metadata": {
        "id": "G2fvoV6BpC32"
      },
      "outputs": [],
      "source": [
        "#problem 2\n",
        "\n",
        "def count_even_numbers(matrix):\n",
        "    count = 0\n",
        "    for row in matrix:\n",
        "        for num in row:\n",
        "            if num % 2 == 0:\n",
        "                count += 1\n",
        "    return count\n",
        "\n",
        "# Test the function\n",
        "matrix = [\n",
        "    [1, 2, 3],\n",
        "    [4, 5, 6],\n",
        "    [7, 8, 9]\n",
        "]\n",
        "even_count = count_even_numbers(matrix)\n",
        "print(\"Count of even numbers:\", even_count)  # Output: Count of even numbers: 4\n"
      ]
    },
    {
      "cell_type": "code",
      "execution_count": null,
      "metadata": {
        "id": "65Z_l_1mpK4L"
      },
      "outputs": [],
      "source": [
        "#Problem 3\n",
        "\n",
        "def get_diagonal_sum(matrix):\n",
        "    diagonal_sum = 0\n",
        "    for i in range(len(matrix)):\n",
        "        diagonal_sum += matrix[i][i]\n",
        "    return diagonal_sum\n",
        "\n",
        "# Test the function\n",
        "matrix = [\n",
        "    [1, 2, 3],\n",
        "    [4, 5, 6],\n",
        "    [7, 8, 9]\n",
        "]\n",
        "diagonal_sum = get_diagonal_sum(matrix)\n",
        "print(\"Sum of main diagonal elements:\", diagonal_sum)  # Output: Sum of main diagonal elements: 15\n"
      ]
    }
  ],
  "metadata": {
    "colab": {
      "provenance": [],
      "authorship_tag": "ABX9TyM6gOp06FqK3tHEKn68AZqR",
      "include_colab_link": true
    },
    "kernelspec": {
      "display_name": "Python 3",
      "name": "python3"
    },
    "language_info": {
      "name": "python"
    }
  },
  "nbformat": 4,
  "nbformat_minor": 0
}