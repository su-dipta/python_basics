{
  "nbformat": 4,
  "nbformat_minor": 0,
  "metadata": {
    "colab": {
      "provenance": [],
      "authorship_tag": "ABX9TyO2WYkq6y9leiNXeKKRGr+Z",
      "include_colab_link": true
    },
    "kernelspec": {
      "name": "python3",
      "display_name": "Python 3"
    },
    "language_info": {
      "name": "python"
    }
  },
  "cells": [
    {
      "cell_type": "markdown",
      "metadata": {
        "id": "view-in-github",
        "colab_type": "text"
      },
      "source": [
        "<a href=\"https://colab.research.google.com/github/su-dipta/python_basics/blob/main/list_matmult.ipynb\" target=\"_parent\"><img src=\"https://colab.research.google.com/assets/colab-badge.svg\" alt=\"Open In Colab\"/></a>"
      ]
    },
    {
      "cell_type": "markdown",
      "source": [
        "# **List**\n",
        "A collection of items, like a shopping list or a to-do list, which can store multiple values in a single variable."
      ],
      "metadata": {
        "id": "V0hL_D5yiiy8"
      }
    },
    {
      "cell_type": "code",
      "source": [
        "fruits = [\"apple\", \"banana\", \"mango\", \"orange\", \"strawberry\"]\n",
        "print(fruits)"
      ],
      "metadata": {
        "id": "WTsN6T3Djp4G"
      },
      "execution_count": null,
      "outputs": []
    },
    {
      "cell_type": "markdown",
      "source": [
        "**NOTE: python numbering starts from 0**"
      ],
      "metadata": {
        "id": "LRzoapDhlqzv"
      }
    },
    {
      "cell_type": "code",
      "source": [
        "# Accessing elements\n",
        "fruits[0]    # apple\n",
        "fruits[1]    # banana\n",
        "fruits[-1]   # strawberry\n",
        "fruits[-2]   # orange"
      ],
      "metadata": {
        "id": "w2yVVwIUjloC"
      },
      "execution_count": null,
      "outputs": []
    },
    {
      "cell_type": "code",
      "source": [
        "#lenth of the list\n",
        "len(fruits)"
      ],
      "metadata": {
        "id": "-QCrBXZ5kb2K"
      },
      "execution_count": null,
      "outputs": []
    },
    {
      "cell_type": "code",
      "source": [
        "# Adding and removing elements\n",
        "\n",
        "fruits.append(\"blueberry\") #adding\n",
        "print(fruits)\n",
        "\n",
        "fruits.remove(\"banana\") #removing\n",
        "print(fruits)"
      ],
      "metadata": {
        "id": "siJ_zOSskuC0"
      },
      "execution_count": null,
      "outputs": []
    },
    {
      "cell_type": "code",
      "source": [
        "#slicing through the list\n",
        "sliced_list = fruits[1:3]\n",
        "print(sliced_list)"
      ],
      "metadata": {
        "id": "HfFrY21Qlaoi"
      },
      "execution_count": null,
      "outputs": []
    },
    {
      "cell_type": "code",
      "source": [
        "# Looping through a list\n",
        "for fruit in fruits:\n",
        "    print(fruit)"
      ],
      "metadata": {
        "id": "kmZE3WKQtd9Y"
      },
      "execution_count": null,
      "outputs": []
    },
    {
      "cell_type": "markdown",
      "source": [
        "List = 1D array\n",
        "```\n",
        "1d_list = [1,2,3]\n",
        "```\n",
        "\n",
        "List of list = 2D array / matrix\n",
        "```\n",
        "matrix = [\n",
        "    [1, 2, 3],\n",
        "    [4, 5, 6],\n",
        "    [7, 8, 9]\n",
        "]\n",
        "```"
      ],
      "metadata": {
        "id": "9y0g1ZmouPAz"
      }
    },
    {
      "cell_type": "code",
      "source": [
        "matrix = [\n",
        "    [1, 2, 3],\n",
        "    [4, 5, 6],\n",
        "    [7, 8, 9]\n",
        "]\n",
        "for i in matrix:\n",
        "    print(i)"
      ],
      "metadata": {
        "colab": {
          "base_uri": "https://localhost:8080/"
        },
        "id": "WGXKPd7zudAT",
        "outputId": "85d850bb-f57c-4500-d02b-0de1faafa9f5"
      },
      "execution_count": 36,
      "outputs": [
        {
          "output_type": "stream",
          "name": "stdout",
          "text": [
            "[1, 2, 3]\n",
            "[4, 5, 6]\n",
            "[7, 8, 9]\n"
          ]
        }
      ]
    },
    {
      "cell_type": "code",
      "source": [
        "# accesing elements of a matrix\n",
        "print(\"00 element = \", matrix[0][0])\n",
        "print(\"02 element = \", matrix[0][2])"
      ],
      "metadata": {
        "colab": {
          "base_uri": "https://localhost:8080/"
        },
        "id": "RMhgmz4dxAD6",
        "outputId": "2482dc60-c0b2-401c-e6cd-bd9a5d2f34f0"
      },
      "execution_count": 37,
      "outputs": [
        {
          "output_type": "stream",
          "name": "stdout",
          "text": [
            "00 element =  1\n",
            "02 element =  3\n"
          ]
        }
      ]
    },
    {
      "cell_type": "code",
      "source": [],
      "metadata": {
        "id": "9BIUnlX_xqdF"
      },
      "execution_count": null,
      "outputs": []
    },
    {
      "cell_type": "code",
      "source": [],
      "metadata": {
        "id": "U_WxZerKxqoE"
      },
      "execution_count": null,
      "outputs": []
    },
    {
      "cell_type": "code",
      "source": [
        "#accesing diagonal elements\n",
        "matrix = [\n",
        "    [1, 2, 3],\n",
        "    [4, 5, 6],\n",
        "    [7, 8, 9]\n",
        "]\n",
        "\n",
        "diagonal = [] #initialization of a list\n",
        "\n",
        "for i in range(len(matrix)):\n",
        "    element = matrix[i][i]\n",
        "    diagonal.append(element)\n",
        "\n",
        "print(\"Diagonal:\", diagonal)"
      ],
      "metadata": {
        "colab": {
          "base_uri": "https://localhost:8080/"
        },
        "id": "B_pgKW_XxDjJ",
        "outputId": "20a2e243-6158-4366-acb0-648b1b64ac52"
      },
      "execution_count": 34,
      "outputs": [
        {
          "output_type": "stream",
          "name": "stdout",
          "text": [
            "Diagonal: [1, 5, 9]\n"
          ]
        }
      ]
    },
    {
      "cell_type": "code",
      "source": [
        "#accesing of off-diagonal elements\n",
        "\n",
        "matrix = [\n",
        "    [1, 2, 3],\n",
        "    [4, 5, 6],\n",
        "    [7, 8, 9]\n",
        "]\n",
        "\n",
        "off_diagonal = []\n",
        "\n",
        "for i in range(len(matrix)):\n",
        "    off_element = matrix[i][len(matrix) - 1 - i]\n",
        "    off_diagonal.append(off_element)\n",
        "\n",
        "print(\"Off-Diagonal:\", off_diagonal)"
      ],
      "metadata": {
        "colab": {
          "base_uri": "https://localhost:8080/"
        },
        "id": "i4a7IttkzMav",
        "outputId": "d2f5d037-b8ce-4e64-b440-c815a707f5c6"
      },
      "execution_count": 35,
      "outputs": [
        {
          "output_type": "stream",
          "name": "stdout",
          "text": [
            "Off-Diagonal: [3, 5, 7]\n"
          ]
        }
      ]
    },
    {
      "cell_type": "code",
      "source": [],
      "metadata": {
        "id": "p6jyBG7F0CZl"
      },
      "execution_count": null,
      "outputs": []
    },
    {
      "cell_type": "code",
      "source": [
        "# accessing column wise\n",
        "\n",
        "matrix = [\n",
        "    [1, 2, 3, 10 ],\n",
        "    [4, 5, 6, 11],\n",
        "    [7, 8, 9, 12]\n",
        "]\n",
        "\n",
        "# number of columns\n",
        "n_columns = len(matrix[0])\n",
        "\n",
        "# Iterate over each column index\n",
        "for col in range(n_columns):\n",
        "    column_elements = []\n",
        "\n",
        "    # Iterate over each row to collect the current column's elements\n",
        "    for row in matrix:\n",
        "        column_elements.append(row[col])\n",
        "\n",
        "    print(\"Column\", col + 1, \":\", column_elements)\n"
      ],
      "metadata": {
        "colab": {
          "base_uri": "https://localhost:8080/"
        },
        "id": "i-UR_Ijjxx_J",
        "outputId": "f790cbaa-1a53-43de-e62d-fb52155e0d20"
      },
      "execution_count": 41,
      "outputs": [
        {
          "output_type": "stream",
          "name": "stdout",
          "text": [
            "Column 1 : [1, 4, 7]\n",
            "Column 2 : [2, 5, 8]\n",
            "Column 3 : [3, 6, 9]\n",
            "Column 4 : [10, 11, 12]\n"
          ]
        }
      ]
    },
    {
      "cell_type": "code",
      "source": [],
      "metadata": {
        "id": "jakicagx1vAi"
      },
      "execution_count": null,
      "outputs": []
    },
    {
      "cell_type": "code",
      "source": [],
      "metadata": {
        "id": "jgB-Aw5k1vJV"
      },
      "execution_count": null,
      "outputs": []
    },
    {
      "cell_type": "markdown",
      "source": [
        "### **Matrix Multiplication**\n",
        "\n",
        "When multiplying two matrices, the number of columns in the first matrix (matrix_A) must match the number of rows in the second matrix (matrix_B). In this example:\n",
        "```\n",
        "matrix_A = 2 * 3 matrix\n",
        "matrix_B = 3 * 2 matrix\n",
        "result_matrix = 2 * 2 matrix\n",
        "```\n",
        "Matrix Multiplication Process\n",
        "Each element in the result matrix is calculated as follows:\n",
        "\n",
        "1. Dot Product: For each element in the result matrix, we calculate a \"dot product\" between a row in matrix_A and a column in matrix_B.\n",
        "\n",
        "2. Repeat this process for each element in the result matrix.\n"
      ],
      "metadata": {
        "id": "djXb6uzF1v3F"
      }
    },
    {
      "cell_type": "code",
      "source": [
        "# Define two matrices\n",
        "matrix_A = [\n",
        "    [1, 2, 3],\n",
        "    [4, 5, 6]\n",
        "]\n",
        "\n",
        "matrix_B = [\n",
        "    [7, 8],\n",
        "    [9, 10],\n",
        "    [11, 12]\n",
        "]\n",
        "\n",
        "# Dimensions of the result matrix\n",
        "n_rows_A = len(matrix_A)           # Rows of matrix_A\n",
        "n_columns_B = len(matrix_B[0])      # Columns of matrix_B\n",
        "n_columns_A = len(matrix_A[0])      # Columns of matrix_A (also rows of matrix_B)\n",
        "\n",
        "\n",
        "result_matrix = [[ 0, 0 ],\n",
        "                [ 0, 0 ]]\n",
        "\n",
        "# Perform matrix multiplication\n",
        "for i in range(n_rows_A):                  # Loop through rows of matrix_A\n",
        "    for j in range(n_columns_B):           # Loop through columns of matrix_B\n",
        "        for k in range(n_columns_A):       # Loop through columns of matrix_A (or rows of matrix_B)\n",
        "            result_matrix[i][j] += matrix_A[i][k] * matrix_B[k][j]\n",
        "\n",
        "# Print the result matrix\n",
        "for r in result_matrix:\n",
        "    print(r)\n"
      ],
      "metadata": {
        "colab": {
          "base_uri": "https://localhost:8080/"
        },
        "id": "MQrLsAXa3PFb",
        "outputId": "661827f0-5bbb-4559-d50e-e8d7e08788f0"
      },
      "execution_count": 43,
      "outputs": [
        {
          "output_type": "stream",
          "name": "stdout",
          "text": [
            "[58, 64]\n",
            "[139, 154]\n"
          ]
        }
      ]
    },
    {
      "cell_type": "code",
      "source": [],
      "metadata": {
        "id": "QjysdPZI4AAW"
      },
      "execution_count": null,
      "outputs": []
    },
    {
      "cell_type": "code",
      "source": [
        "# Initialize the result matrix with zeros\n",
        "#result_matrix = [[0 for _ in range(num_columns_B)] for _ in range(num_rows_A)]"
      ],
      "metadata": {
        "id": "onaDRXCK4Agx"
      },
      "execution_count": null,
      "outputs": []
    }
  ]
}